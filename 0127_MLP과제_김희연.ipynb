{
 "cells": [
  {
   "cell_type": "markdown",
   "metadata": {
    "id": "MN_pVd5cU2QQ"
   },
   "source": [
    "# 과제: MNIST 데이터를 나만의 NN model로 95 % 이상의 성능으로 training 시켜보자!\n",
    "\n",
    "\n",
    "## Loading MNIST training data\n",
    "\n",
    "출처: 18기 DS 김승하님"
   ]
  },
  {
   "cell_type": "code",
   "execution_count": 1,
   "metadata": {
    "id": "hwZNV5MFU2QQ"
   },
   "outputs": [],
   "source": [
    "import tensorflow as tf\n",
    "from tensorflow import keras\n",
    "\n",
    "# import matplotlib\n",
    "import matplotlib.pyplot as plt\n",
    "%matplotlib inline\n",
    "\n",
    "# Loading the data\n",
    "(x_train, y_train), (x_test, y_test) = tf.keras.datasets.mnist.load_data()\n",
    "\n",
    "# Scaling(image data는 min-max scaling 주로 사용)\n",
    "x_train = x_train/255.0\n",
    "x_test = x_test/255.0"
   ]
  },
  {
   "cell_type": "markdown",
   "metadata": {
    "id": "RDU8J2xRU2QQ"
   },
   "source": [
    "## Training Data\n",
    "28 * 28 pixel 값을 가진 총 60000개의 이미지 데이터"
   ]
  },
  {
   "cell_type": "code",
   "execution_count": 2,
   "metadata": {
    "colab": {
     "base_uri": "https://localhost:8080/"
    },
    "executionInfo": {
     "elapsed": 6,
     "status": "ok",
     "timestamp": 1643028242064,
     "user": {
      "displayName": "‍정은서(학부학생/공과대학 컴퓨터과학)",
      "photoUrl": "https://lh3.googleusercontent.com/a/default-user=s64",
      "userId": "09920294658440473258"
     },
     "user_tz": -540
    },
    "id": "jVvXmjQSU2QQ",
    "outputId": "acd0ce4a-bae4-4ee8-b257-de8db98dfd9a"
   },
   "outputs": [
    {
     "data": {
      "text/plain": [
       "(60000, 28, 28)"
      ]
     },
     "execution_count": 2,
     "metadata": {},
     "output_type": "execute_result"
    }
   ],
   "source": [
    "x_train.shape "
   ]
  },
  {
   "cell_type": "markdown",
   "metadata": {
    "id": "272a9wmbuL3L"
   },
   "source": []
  },
  {
   "cell_type": "markdown",
   "metadata": {
    "id": "-VTAAYKSU2QQ"
   },
   "source": [
    "Neural network 모델에 맞게 이미지 데이터를 벡터 형태로 데이터를 reshape 합니다.  \n",
    "(Model을 만들 때 *keras.layers.Flatten(input_shape=(28, 28)) 이용해도 됨)"
   ]
  },
  {
   "cell_type": "code",
   "execution_count": 3,
   "metadata": {
    "colab": {
     "base_uri": "https://localhost:8080/"
    },
    "executionInfo": {
     "elapsed": 5,
     "status": "ok",
     "timestamp": 1643028242065,
     "user": {
      "displayName": "‍정은서(학부학생/공과대학 컴퓨터과학)",
      "photoUrl": "https://lh3.googleusercontent.com/a/default-user=s64",
      "userId": "09920294658440473258"
     },
     "user_tz": -540
    },
    "id": "dq36yUX8U2QR",
    "outputId": "8d3e9a3a-30b4-4d26-b16b-b96982aca18e"
   },
   "outputs": [
    {
     "data": {
      "text/plain": [
       "((60000, 784), (10000, 784))"
      ]
     },
     "execution_count": 3,
     "metadata": {},
     "output_type": "execute_result"
    }
   ],
   "source": [
    "x_train, x_test = x_train.reshape((-1, 28*28)), x_test.reshape((-1, 28*28))\n",
    "x_train.shape, x_test.shape"
   ]
  },
  {
   "cell_type": "code",
   "execution_count": 4,
   "metadata": {
    "colab": {
     "base_uri": "https://localhost:8080/",
     "height": 564
    },
    "executionInfo": {
     "elapsed": 560,
     "status": "error",
     "timestamp": 1643028242621,
     "user": {
      "displayName": "‍정은서(학부학생/공과대학 컴퓨터과학)",
      "photoUrl": "https://lh3.googleusercontent.com/a/default-user=s64",
      "userId": "09920294658440473258"
     },
     "user_tz": -540
    },
    "id": "zrQLH9iXU2QR",
    "outputId": "ed354b79-507b-4de2-8c7b-2228b3aed80c"
   },
   "outputs": [
    {
     "data": {
      "image/png": "[encoded data removed]",
      "text/plain": [
       "<Figure size 432x288 with 1 Axes>"
      ]
     },
     "metadata": {
      "needs_background": "light"
     },
     "output_type": "display_data"
    }
   ],
   "source": [
    "plt.imshow(x_train[0].reshape(28,28)).set_cmap('Greys')"
   ]
  },
  {
   "cell_type": "markdown",
   "metadata": {
    "id": "0YZXzr-AU2QR"
   },
   "source": [
    "## Training Labels\n",
    "이미지 데이터가 나타내는 숫자값을 label로 가지고 있고, 0부터 9까지의 값을 나타냄  \n",
    "마찬가지로, 60000개의 label이 존재"
   ]
  },
  {
   "cell_type": "code",
   "execution_count": 5,
   "metadata": {
    "id": "V-JVvQcJU2QR"
   },
   "outputs": [
    {
     "data": {
      "text/plain": [
       "(60000,)"
      ]
     },
     "execution_count": 5,
     "metadata": {},
     "output_type": "execute_result"
    }
   ],
   "source": [
    "y_train.shape"
   ]
  },
  {
   "cell_type": "code",
   "execution_count": 6,
   "metadata": {
    "id": "PgAkJK6yU2QR"
   },
   "outputs": [
    {
     "data": {
      "text/plain": [
       "5"
      ]
     },
     "execution_count": 6,
     "metadata": {},
     "output_type": "execute_result"
    }
   ],
   "source": [
    "# show MNIST label for above data\n",
    "y_train[0]"
   ]
  },
  {
   "cell_type": "markdown",
   "metadata": {
    "id": "qaI3Kv_GU2QR"
   },
   "source": [
    "## 나만의 모델을 tensorflow keras API 를 이용해 만들어 봅시다~"
   ]
  },
  {
   "cell_type": "markdown",
   "metadata": {
    "id": "gSshVnt2U2QS"
   },
   "source": [
    "* parameters for model"
   ]
  },
  {
   "cell_type": "code",
   "execution_count": 7,
   "metadata": {
    "id": "coUZ53nKU2QS"
   },
   "outputs": [
    {
     "name": "stderr",
     "output_type": "stream",
     "text": [
      "2022-02-01 22:05:14.791484: I tensorflow/core/platform/cpu_feature_guard.cc:145] This TensorFlow binary is optimized with Intel(R) MKL-DNN to use the following CPU instructions in performance critical operations:  SSE4.1 SSE4.2\n",
      "To enable them in non-MKL-DNN operations, rebuild TensorFlow with the appropriate compiler flags.\n",
      "2022-02-01 22:05:14.792148: I tensorflow/core/common_runtime/process_util.cc:115] Creating new thread pool with default inter op setting: 8. Tune using inter_op_parallelism_threads for best performance.\n"
     ]
    }
   ],
   "source": [
    "activation_list = [\"sigmoid\", \"relu\", \"softmax\", \"tanh\"]\n",
    "\n",
    "loss_list = [\"sparse_categorical_crossentropy\",\n",
    "             \"categorical_crossentropy\", \n",
    "             \"binary_crossentropy\"]\n",
    "\n",
    "optimizer_list = [\"sgd\", \"adam\", \"rmsprop\", \"adagrad\"]\n",
    "\n",
    "initializer_list = [tf.keras.initializers.RandomNormal(), \n",
    "                    tf.keras.initializers.RandomUniform(), \n",
    "                    tf.keras.initializers.he_normal(), \n",
    "                    tf.keras.initializers.he_uniform(), \n",
    "                    tf.keras.initializers.GlorotUniform(),\n",
    "                    tf.keras.initializers.GlorotNormal()]\n",
    "\n",
    "# dropout\n",
    "dropout_rate = 0.3\n",
    "model = tf.keras.Sequential([\n",
    "    tf.keras.layers.Dense(256, input_dim=784, activation = \"sigmoid\"),\n",
    "    tf.keras.layers.Dense(2, activation = \"sigmoid\"),\n",
    "    tf.keras.layers.Dropout(dropout_rate)\n",
    "])\n",
    "\n",
    "\n",
    "# regularizer\n",
    "regularizer = tf.keras.regularizers.l1(1e-3)\n",
    "regularizer = tf.keras.regularizers.l2(1e-3)\n",
    "model = tf.keras.Sequential([\n",
    "    tf.keras.layers.Dense(256, input_dim=784, activation=\"sigmoid\",\n",
    "                          activity_regularizer=regularizer)\n",
    "])\n",
    "\n",
    "# weight initialization\n",
    "model = tf.keras.Sequential([\n",
    "    tf.keras.layers.Dense(256, input_dim=784, activation=\"sigmoid\",\n",
    "                          kernel_initializer=initializer_list[0])\n",
    "])"
   ]
  },
  {
   "cell_type": "markdown",
   "metadata": {
    "id": "d-6ZTz4AU2QS"
   },
   "source": [
    "#### My Own Model "
   ]
  },
  {
   "cell_type": "code",
   "execution_count": 38,
   "metadata": {
    "id": "ziVbGe6sU2QS"
   },
   "outputs": [],
   "source": [
    "#### 자유롭게 Model을 만들고 compile 해봅시다 ####\n",
    "from tensorflow.keras.layers import (Dense, Flatten)\n",
    "\n",
    "model = keras.models.Sequential()\n",
    "model.add(keras.layers.Flatten(input_shape=[784, ],name=\"Flatten\"))\n",
    "model.add(Dense(300,activation=\"relu\",name=\"Hidden1\"))\n",
    "model.add(Dense(200,activation=\"relu\",name=\"Hidden2\"))\n",
    "model.add(Dense(100,activation=\"relu\",name=\"Hidden3\"))\n",
    "model.add(Dense(10,activation=\"softmax\",name=\"Output\"))"
   ]
  },
  {
   "cell_type": "code",
   "execution_count": 39,
   "metadata": {},
   "outputs": [],
   "source": [
    "opt=keras.optimizers.Adam(learning_rate=0.005)\n",
    "model.compile(loss = \"sparse_categorical_crossentropy\", \n",
    "              optimizer = opt,\n",
    "              metrics = [\"accuracy\"])"
   ]
  },
  {
   "cell_type": "markdown",
   "metadata": {
    "id": "PVhLJHJ9U2QT"
   },
   "source": [
    "내가 만든 모델을 확인해 봅시다."
   ]
  },
  {
   "cell_type": "code",
   "execution_count": 40,
   "metadata": {
    "id": "GChgw-8sU2QT"
   },
   "outputs": [
    {
     "name": "stdout",
     "output_type": "stream",
     "text": [
      "Model: \"sequential_6\"\n",
      "_________________________________________________________________\n",
      "Layer (type)                 Output Shape              Param #   \n",
      "=================================================================\n",
      "Flatten (Flatten)            (None, 784)               0         \n",
      "_________________________________________________________________\n",
      "Hidden1 (Dense)              (None, 300)               235500    \n",
      "_________________________________________________________________\n",
      "Hidden2 (Dense)              (None, 200)               60200     \n",
      "_________________________________________________________________\n",
      "Hidden3 (Dense)              (None, 100)               20100     \n",
      "_________________________________________________________________\n",
      "Output (Dense)               (None, 10)                1010      \n",
      "=================================================================\n",
      "Total params: 316,810\n",
      "Trainable params: 316,810\n",
      "Non-trainable params: 0\n",
      "_________________________________________________________________\n"
     ]
    }
   ],
   "source": [
    "model.summary()"
   ]
  },
  {
   "cell_type": "markdown",
   "metadata": {
    "id": "f9zWRRHIU2QT"
   },
   "source": [
    "model을 자유롭게 train 해봅시다.  "
   ]
  },
  {
   "cell_type": "code",
   "execution_count": 41,
   "metadata": {
    "id": "6uygJ19gU2QT"
   },
   "outputs": [
    {
     "name": "stdout",
     "output_type": "stream",
     "text": [
      "Train on 60000 samples, validate on 10000 samples\n",
      "Epoch 1/100\n",
      "60000/60000 [==============================] - 1s 24us/sample - loss: 0.9757 - accuracy: 0.6899 - val_loss: 0.4094 - val_accuracy: 0.8787\n",
      "Epoch 2/100\n",
      "60000/60000 [==============================] - 1s 17us/sample - loss: 0.3067 - accuracy: 0.9091 - val_loss: 0.2298 - val_accuracy: 0.9302\n",
      "Epoch 3/100\n",
      "60000/60000 [==============================] - 1s 17us/sample - loss: 0.1919 - accuracy: 0.9431 - val_loss: 0.1593 - val_accuracy: 0.9507\n",
      "Epoch 4/100\n",
      "60000/60000 [==============================] - 1s 17us/sample - loss: 0.1380 - accuracy: 0.9593 - val_loss: 0.1269 - val_accuracy: 0.9613\n",
      "Epoch 5/100\n",
      "60000/60000 [==============================] - 1s 17us/sample - loss: 0.1061 - accuracy: 0.9686 - val_loss: 0.1103 - val_accuracy: 0.9665\n",
      "Epoch 6/100\n",
      "60000/60000 [==============================] - 1s 17us/sample - loss: 0.0837 - accuracy: 0.9752 - val_loss: 0.1018 - val_accuracy: 0.9686\n",
      "Epoch 7/100\n",
      "60000/60000 [==============================] - 1s 17us/sample - loss: 0.0691 - accuracy: 0.9792 - val_loss: 0.0879 - val_accuracy: 0.9739\n",
      "Epoch 8/100\n",
      "60000/60000 [==============================] - 1s 17us/sample - loss: 0.0543 - accuracy: 0.9833 - val_loss: 0.0851 - val_accuracy: 0.9748\n",
      "Epoch 9/100\n",
      "60000/60000 [==============================] - 1s 17us/sample - loss: 0.0441 - accuracy: 0.9867 - val_loss: 0.0792 - val_accuracy: 0.9748\n",
      "Epoch 10/100\n",
      "60000/60000 [==============================] - 1s 17us/sample - loss: 0.0362 - accuracy: 0.9896 - val_loss: 0.0800 - val_accuracy: 0.9763\n",
      "Epoch 11/100\n",
      "60000/60000 [==============================] - 1s 17us/sample - loss: 0.0302 - accuracy: 0.9910 - val_loss: 0.0793 - val_accuracy: 0.9764\n",
      "Epoch 12/100\n",
      "60000/60000 [==============================] - 1s 17us/sample - loss: 0.0258 - accuracy: 0.9927 - val_loss: 0.0837 - val_accuracy: 0.9753\n",
      "Epoch 13/100\n",
      "60000/60000 [==============================] - 1s 17us/sample - loss: 0.0210 - accuracy: 0.9941 - val_loss: 0.0781 - val_accuracy: 0.9773\n",
      "Epoch 14/100\n",
      "60000/60000 [==============================] - 1s 17us/sample - loss: 0.0168 - accuracy: 0.9957 - val_loss: 0.0777 - val_accuracy: 0.9780\n",
      "Epoch 15/100\n",
      "60000/60000 [==============================] - 1s 17us/sample - loss: 0.0142 - accuracy: 0.9963 - val_loss: 0.0888 - val_accuracy: 0.9757\n",
      "Epoch 16/100\n",
      "60000/60000 [==============================] - 1s 17us/sample - loss: 0.0106 - accuracy: 0.9974 - val_loss: 0.0831 - val_accuracy: 0.9775\n",
      "Epoch 17/100\n",
      "60000/60000 [==============================] - 1s 17us/sample - loss: 0.0076 - accuracy: 0.9985 - val_loss: 0.0836 - val_accuracy: 0.9782\n",
      "Epoch 18/100\n",
      "60000/60000 [==============================] - 1s 17us/sample - loss: 0.0056 - accuracy: 0.9991 - val_loss: 0.0889 - val_accuracy: 0.9779\n",
      "Epoch 19/100\n",
      "60000/60000 [==============================] - 1s 17us/sample - loss: 0.0044 - accuracy: 0.9993 - val_loss: 0.0873 - val_accuracy: 0.9787\n",
      "Epoch 20/100\n",
      "60000/60000 [==============================] - 1s 17us/sample - loss: 0.0031 - accuracy: 0.9997 - val_loss: 0.0905 - val_accuracy: 0.9785\n",
      "Epoch 21/100\n",
      "60000/60000 [==============================] - 1s 17us/sample - loss: 0.0030 - accuracy: 0.9996 - val_loss: 0.0906 - val_accuracy: 0.9780\n",
      "Epoch 22/100\n",
      "60000/60000 [==============================] - 1s 17us/sample - loss: 0.0024 - accuracy: 0.9998 - val_loss: 0.0937 - val_accuracy: 0.9788\n",
      "Epoch 23/100\n",
      "60000/60000 [==============================] - 1s 17us/sample - loss: 0.0020 - accuracy: 0.9998 - val_loss: 0.0932 - val_accuracy: 0.9786\n",
      "Epoch 24/100\n",
      "60000/60000 [==============================] - 1s 17us/sample - loss: 0.0015 - accuracy: 0.9999 - val_loss: 0.0992 - val_accuracy: 0.9783\n",
      "Epoch 25/100\n",
      "60000/60000 [==============================] - 1s 17us/sample - loss: 0.0013 - accuracy: 1.0000 - val_loss: 0.0979 - val_accuracy: 0.9781\n",
      "Epoch 26/100\n",
      "60000/60000 [==============================] - 1s 17us/sample - loss: 9.5142e-04 - accuracy: 1.0000 - val_loss: 0.0956 - val_accuracy: 0.9797\n",
      "Epoch 27/100\n",
      "60000/60000 [==============================] - 1s 17us/sample - loss: 7.1611e-04 - accuracy: 1.0000 - val_loss: 0.0980 - val_accuracy: 0.9792\n",
      "Epoch 28/100\n",
      "60000/60000 [==============================] - 1s 17us/sample - loss: 5.4312e-04 - accuracy: 1.0000 - val_loss: 0.0995 - val_accuracy: 0.9797\n",
      "Epoch 29/100\n",
      "60000/60000 [==============================] - 1s 18us/sample - loss: 4.5065e-04 - accuracy: 1.0000 - val_loss: 0.1009 - val_accuracy: 0.9792\n",
      "Epoch 30/100\n",
      "60000/60000 [==============================] - 1s 17us/sample - loss: 4.0169e-04 - accuracy: 1.0000 - val_loss: 0.1009 - val_accuracy: 0.9791\n",
      "Epoch 31/100\n",
      "60000/60000 [==============================] - 1s 17us/sample - loss: 3.6784e-04 - accuracy: 1.0000 - val_loss: 0.1018 - val_accuracy: 0.9789\n",
      "Epoch 32/100\n",
      "60000/60000 [==============================] - 1s 17us/sample - loss: 3.3420e-04 - accuracy: 1.0000 - val_loss: 0.1032 - val_accuracy: 0.9793\n",
      "Epoch 33/100\n",
      "60000/60000 [==============================] - 1s 17us/sample - loss: 3.0352e-04 - accuracy: 1.0000 - val_loss: 0.1042 - val_accuracy: 0.9795\n",
      "Epoch 34/100\n",
      "60000/60000 [==============================] - 1s 17us/sample - loss: 2.7962e-04 - accuracy: 1.0000 - val_loss: 0.1044 - val_accuracy: 0.9791\n",
      "Epoch 35/100\n",
      "60000/60000 [==============================] - 1s 17us/sample - loss: 2.6132e-04 - accuracy: 1.0000 - val_loss: 0.1054 - val_accuracy: 0.9795\n",
      "Epoch 36/100\n",
      "60000/60000 [==============================] - 1s 17us/sample - loss: 2.4086e-04 - accuracy: 1.0000 - val_loss: 0.1064 - val_accuracy: 0.9792\n",
      "Epoch 37/100\n",
      "60000/60000 [==============================] - 1s 17us/sample - loss: 2.2570e-04 - accuracy: 1.0000 - val_loss: 0.1071 - val_accuracy: 0.9791\n",
      "Epoch 38/100\n",
      "60000/60000 [==============================] - 1s 17us/sample - loss: 2.1173e-04 - accuracy: 1.0000 - val_loss: 0.1070 - val_accuracy: 0.9795\n",
      "Epoch 39/100\n",
      "60000/60000 [==============================] - 1s 17us/sample - loss: 2.0047e-04 - accuracy: 1.0000 - val_loss: 0.1084 - val_accuracy: 0.9794\n",
      "Epoch 40/100\n",
      "60000/60000 [==============================] - 1s 17us/sample - loss: 1.8797e-04 - accuracy: 1.0000 - val_loss: 0.1085 - val_accuracy: 0.9794\n",
      "Epoch 41/100\n",
      "60000/60000 [==============================] - 1s 17us/sample - loss: 1.7655e-04 - accuracy: 1.0000 - val_loss: 0.1095 - val_accuracy: 0.9791\n",
      "Epoch 42/100\n",
      "60000/60000 [==============================] - 1s 17us/sample - loss: 1.6656e-04 - accuracy: 1.0000 - val_loss: 0.1099 - val_accuracy: 0.9794\n",
      "Epoch 43/100\n",
      "60000/60000 [==============================] - 1s 17us/sample - loss: 1.5700e-04 - accuracy: 1.0000 - val_loss: 0.1102 - val_accuracy: 0.9792\n",
      "Epoch 44/100\n",
      "60000/60000 [==============================] - 1s 17us/sample - loss: 1.4968e-04 - accuracy: 1.0000 - val_loss: 0.1112 - val_accuracy: 0.9793\n",
      "Epoch 45/100\n",
      "60000/60000 [==============================] - 1s 18us/sample - loss: 1.4095e-04 - accuracy: 1.0000 - val_loss: 0.1116 - val_accuracy: 0.9794\n",
      "Epoch 46/100\n",
      "60000/60000 [==============================] - 1s 17us/sample - loss: 1.3524e-04 - accuracy: 1.0000 - val_loss: 0.1123 - val_accuracy: 0.9796\n",
      "Epoch 47/100\n",
      "60000/60000 [==============================] - 1s 17us/sample - loss: 1.2781e-04 - accuracy: 1.0000 - val_loss: 0.1128 - val_accuracy: 0.9792\n",
      "Epoch 48/100\n",
      "60000/60000 [==============================] - 1s 18us/sample - loss: 1.2293e-04 - accuracy: 1.0000 - val_loss: 0.1133 - val_accuracy: 0.9793\n",
      "Epoch 49/100\n",
      "60000/60000 [==============================] - 1s 17us/sample - loss: 1.1626e-04 - accuracy: 1.0000 - val_loss: 0.1139 - val_accuracy: 0.9795\n",
      "Epoch 50/100\n",
      "60000/60000 [==============================] - 1s 18us/sample - loss: 1.1065e-04 - accuracy: 1.0000 - val_loss: 0.1144 - val_accuracy: 0.9795\n",
      "Epoch 51/100\n",
      "60000/60000 [==============================] - 1s 17us/sample - loss: 1.0637e-04 - accuracy: 1.0000 - val_loss: 0.1148 - val_accuracy: 0.9792\n",
      "Epoch 52/100\n",
      "60000/60000 [==============================] - 1s 17us/sample - loss: 1.0253e-04 - accuracy: 1.0000 - val_loss: 0.1154 - val_accuracy: 0.9794\n",
      "Epoch 53/100\n",
      "60000/60000 [==============================] - 1s 18us/sample - loss: 9.7994e-05 - accuracy: 1.0000 - val_loss: 0.1160 - val_accuracy: 0.9792\n",
      "Epoch 54/100\n"
     ]
    },
    {
     "name": "stdout",
     "output_type": "stream",
     "text": [
      "60000/60000 [==============================] - 1s 17us/sample - loss: 9.3456e-05 - accuracy: 1.0000 - val_loss: 0.1162 - val_accuracy: 0.9794\n",
      "Epoch 55/100\n",
      "60000/60000 [==============================] - 1s 17us/sample - loss: 8.9767e-05 - accuracy: 1.0000 - val_loss: 0.1167 - val_accuracy: 0.9791\n",
      "Epoch 56/100\n",
      "60000/60000 [==============================] - 1s 17us/sample - loss: 8.6709e-05 - accuracy: 1.0000 - val_loss: 0.1175 - val_accuracy: 0.9797\n",
      "Epoch 57/100\n",
      "60000/60000 [==============================] - 1s 17us/sample - loss: 8.3214e-05 - accuracy: 1.0000 - val_loss: 0.1177 - val_accuracy: 0.9793\n",
      "Epoch 58/100\n",
      "60000/60000 [==============================] - 1s 17us/sample - loss: 7.9953e-05 - accuracy: 1.0000 - val_loss: 0.1180 - val_accuracy: 0.9791\n",
      "Epoch 59/100\n",
      "60000/60000 [==============================] - 1s 17us/sample - loss: 7.7202e-05 - accuracy: 1.0000 - val_loss: 0.1191 - val_accuracy: 0.9795\n",
      "Epoch 60/100\n",
      "60000/60000 [==============================] - 1s 18us/sample - loss: 7.4270e-05 - accuracy: 1.0000 - val_loss: 0.1189 - val_accuracy: 0.9794\n",
      "Epoch 61/100\n",
      "60000/60000 [==============================] - 1s 17us/sample - loss: 7.1935e-05 - accuracy: 1.0000 - val_loss: 0.1194 - val_accuracy: 0.9792\n",
      "Epoch 62/100\n",
      "60000/60000 [==============================] - 1s 17us/sample - loss: 6.9156e-05 - accuracy: 1.0000 - val_loss: 0.1200 - val_accuracy: 0.9793\n",
      "Epoch 63/100\n",
      "60000/60000 [==============================] - 1s 17us/sample - loss: 6.6532e-05 - accuracy: 1.0000 - val_loss: 0.1202 - val_accuracy: 0.9793\n",
      "Epoch 64/100\n",
      "60000/60000 [==============================] - 1s 17us/sample - loss: 6.4524e-05 - accuracy: 1.0000 - val_loss: 0.1208 - val_accuracy: 0.9792\n",
      "Epoch 65/100\n",
      "60000/60000 [==============================] - 1s 18us/sample - loss: 6.2151e-05 - accuracy: 1.0000 - val_loss: 0.1210 - val_accuracy: 0.9793\n",
      "Epoch 66/100\n",
      "60000/60000 [==============================] - 1s 18us/sample - loss: 6.0022e-05 - accuracy: 1.0000 - val_loss: 0.1216 - val_accuracy: 0.9792\n",
      "Epoch 67/100\n",
      "60000/60000 [==============================] - 1s 18us/sample - loss: 5.8167e-05 - accuracy: 1.0000 - val_loss: 0.1219 - val_accuracy: 0.9791\n",
      "Epoch 68/100\n",
      "60000/60000 [==============================] - 1s 18us/sample - loss: 5.6577e-05 - accuracy: 1.0000 - val_loss: 0.1222 - val_accuracy: 0.9791\n",
      "Epoch 69/100\n",
      "60000/60000 [==============================] - 1s 18us/sample - loss: 5.4740e-05 - accuracy: 1.0000 - val_loss: 0.1226 - val_accuracy: 0.9791\n",
      "Epoch 70/100\n",
      "60000/60000 [==============================] - 1s 18us/sample - loss: 5.2873e-05 - accuracy: 1.0000 - val_loss: 0.1232 - val_accuracy: 0.9791\n",
      "Epoch 71/100\n",
      "60000/60000 [==============================] - 1s 18us/sample - loss: 5.1270e-05 - accuracy: 1.0000 - val_loss: 0.1233 - val_accuracy: 0.9791\n",
      "Epoch 72/100\n",
      "60000/60000 [==============================] - 1s 18us/sample - loss: 4.9764e-05 - accuracy: 1.0000 - val_loss: 0.1238 - val_accuracy: 0.9791\n",
      "Epoch 73/100\n",
      "60000/60000 [==============================] - 1s 18us/sample - loss: 4.8355e-05 - accuracy: 1.0000 - val_loss: 0.1243 - val_accuracy: 0.9790\n",
      "Epoch 74/100\n",
      "60000/60000 [==============================] - 1s 18us/sample - loss: 4.6662e-05 - accuracy: 1.0000 - val_loss: 0.1246 - val_accuracy: 0.9793\n",
      "Epoch 75/100\n",
      "60000/60000 [==============================] - 1s 19us/sample - loss: 4.5301e-05 - accuracy: 1.0000 - val_loss: 0.1248 - val_accuracy: 0.9792\n",
      "Epoch 76/100\n",
      "60000/60000 [==============================] - 1s 18us/sample - loss: 4.4046e-05 - accuracy: 1.0000 - val_loss: 0.1251 - val_accuracy: 0.9792\n",
      "Epoch 77/100\n",
      "60000/60000 [==============================] - 1s 18us/sample - loss: 4.2855e-05 - accuracy: 1.0000 - val_loss: 0.1256 - val_accuracy: 0.9791\n",
      "Epoch 78/100\n",
      "60000/60000 [==============================] - 1s 18us/sample - loss: 4.1579e-05 - accuracy: 1.0000 - val_loss: 0.1260 - val_accuracy: 0.9793\n",
      "Epoch 79/100\n",
      "60000/60000 [==============================] - 1s 18us/sample - loss: 4.0580e-05 - accuracy: 1.0000 - val_loss: 0.1262 - val_accuracy: 0.9793\n",
      "Epoch 80/100\n",
      "60000/60000 [==============================] - 1s 18us/sample - loss: 3.9588e-05 - accuracy: 1.0000 - val_loss: 0.1266 - val_accuracy: 0.9791\n",
      "Epoch 81/100\n",
      "60000/60000 [==============================] - 1s 18us/sample - loss: 3.8473e-05 - accuracy: 1.0000 - val_loss: 0.1269 - val_accuracy: 0.9793\n",
      "Epoch 82/100\n",
      "60000/60000 [==============================] - 1s 18us/sample - loss: 3.7401e-05 - accuracy: 1.0000 - val_loss: 0.1272 - val_accuracy: 0.9792\n",
      "Epoch 83/100\n",
      "60000/60000 [==============================] - 1s 18us/sample - loss: 3.6324e-05 - accuracy: 1.0000 - val_loss: 0.1274 - val_accuracy: 0.9793\n",
      "Epoch 84/100\n",
      "60000/60000 [==============================] - 1s 18us/sample - loss: 3.5388e-05 - accuracy: 1.0000 - val_loss: 0.1279 - val_accuracy: 0.9793\n",
      "Epoch 85/100\n",
      "60000/60000 [==============================] - 1s 18us/sample - loss: 3.4461e-05 - accuracy: 1.0000 - val_loss: 0.1280 - val_accuracy: 0.9792\n",
      "Epoch 86/100\n",
      "60000/60000 [==============================] - 1s 18us/sample - loss: 3.3687e-05 - accuracy: 1.0000 - val_loss: 0.1284 - val_accuracy: 0.9791\n",
      "Epoch 87/100\n",
      "60000/60000 [==============================] - 1s 18us/sample - loss: 3.2869e-05 - accuracy: 1.0000 - val_loss: 0.1288 - val_accuracy: 0.9792\n",
      "Epoch 88/100\n",
      "60000/60000 [==============================] - 1s 18us/sample - loss: 3.2092e-05 - accuracy: 1.0000 - val_loss: 0.1290 - val_accuracy: 0.9792\n",
      "Epoch 89/100\n",
      "60000/60000 [==============================] - 1s 18us/sample - loss: 3.1200e-05 - accuracy: 1.0000 - val_loss: 0.1293 - val_accuracy: 0.9792\n",
      "Epoch 90/100\n",
      "60000/60000 [==============================] - 1s 19us/sample - loss: 3.0388e-05 - accuracy: 1.0000 - val_loss: 0.1296 - val_accuracy: 0.9791\n",
      "Epoch 91/100\n",
      "60000/60000 [==============================] - 1s 18us/sample - loss: 2.9668e-05 - accuracy: 1.0000 - val_loss: 0.1298 - val_accuracy: 0.9790\n",
      "Epoch 92/100\n",
      "60000/60000 [==============================] - 1s 18us/sample - loss: 2.8987e-05 - accuracy: 1.0000 - val_loss: 0.1302 - val_accuracy: 0.9792\n",
      "Epoch 93/100\n",
      "60000/60000 [==============================] - 1s 18us/sample - loss: 2.8276e-05 - accuracy: 1.0000 - val_loss: 0.1305 - val_accuracy: 0.9792\n",
      "Epoch 94/100\n",
      "60000/60000 [==============================] - 1s 18us/sample - loss: 2.7684e-05 - accuracy: 1.0000 - val_loss: 0.1307 - val_accuracy: 0.9792\n",
      "Epoch 95/100\n",
      "60000/60000 [==============================] - 1s 18us/sample - loss: 2.6991e-05 - accuracy: 1.0000 - val_loss: 0.1309 - val_accuracy: 0.9788\n",
      "Epoch 96/100\n",
      "60000/60000 [==============================] - 1s 18us/sample - loss: 2.6402e-05 - accuracy: 1.0000 - val_loss: 0.1313 - val_accuracy: 0.9792\n",
      "Epoch 97/100\n",
      "60000/60000 [==============================] - 1s 18us/sample - loss: 2.5786e-05 - accuracy: 1.0000 - val_loss: 0.1315 - val_accuracy: 0.9792\n",
      "Epoch 98/100\n",
      "60000/60000 [==============================] - 1s 18us/sample - loss: 2.5202e-05 - accuracy: 1.0000 - val_loss: 0.1318 - val_accuracy: 0.9789\n",
      "Epoch 99/100\n",
      "60000/60000 [==============================] - 1s 19us/sample - loss: 2.4618e-05 - accuracy: 1.0000 - val_loss: 0.1319 - val_accuracy: 0.9792\n",
      "Epoch 100/100\n",
      "60000/60000 [==============================] - 1s 19us/sample - loss: 2.4059e-05 - accuracy: 1.0000 - val_loss: 0.1324 - val_accuracy: 0.9791\n"
     ]
    },
    {
     "data": {
      "text/plain": [
       "<tensorflow.python.keras.callbacks.History at 0x7f8991073fd0>"
      ]
     },
     "execution_count": 41,
     "metadata": {},
     "output_type": "execute_result"
    }
   ],
   "source": [
    "model.fit(x_train, y_train, epochs=100, batch_size=5000, validation_data=(x_test,y_test))"
   ]
  },
  {
   "cell_type": "markdown",
   "metadata": {
    "id": "U8A4zKnEU2QT"
   },
   "source": [
    "95%이상의 성능을 가진 모델을 만들면 완성!"
   ]
  },
  {
   "cell_type": "code",
   "execution_count": 42,
   "metadata": {
    "id": "9Xz0qGifU2QU"
   },
   "outputs": [
    {
     "name": "stdout",
     "output_type": "stream",
     "text": [
      "10000/1 - 1s - loss: 0.0662 - accuracy: 0.9791\n",
      "\n",
      "Accuracy: 0.9791\n"
     ]
    }
   ],
   "source": [
    "test_loss, test_acc = model.evaluate(x_test,y_test, verbose=2)\n",
    "\n",
    "print('\\nAccuracy:', test_acc)"
   ]
  }
 ],
 "metadata": {
  "accelerator": "GPU",
  "colab": {
   "name": "DL(MLP)_과제.ipynb",
   "provenance": [
    {
     "file_id": "17b-QFKGmGUci3WmTA3KXSa7sTAFiiMym",
     "timestamp": 1643028141636
    }
   ]
  },
  "kernelspec": {
   "display_name": "Python 3 (ipykernel)",
   "language": "python",
   "name": "python3"
  },
  "language_info": {
   "codemirror_mode": {
    "name": "ipython",
    "version": 3
   },
   "file_extension": ".py",
   "mimetype": "text/x-python",
   "name": "python",
   "nbconvert_exporter": "python",
   "pygments_lexer": "ipython3",
   "version": "3.7.11"
  }
 },
 "nbformat": 4,
 "nbformat_minor": 1
}
